{
 "cells": [
  {
   "cell_type": "markdown",
   "metadata": {},
   "source": [
    "# Number Of Iterations\n",
    "<font size=3>\n",
    "The number of training iterations is a hyperparameter we can optimize automatically using a technique called early stopping (also \"early termination\")."
   ]
  },
  {
   "cell_type": "markdown",
   "metadata": {},
   "source": [
    "# ValidationMonitor (Deprecated)\n",
    "<font size=3>\n",
    "In tensorflow, we can use a [**ValidationMonitor**](https://www.tensorflow.org/get_started/monitors#early_stopping_with_validationmonitor) with tf.contrib.learn to not only monitor the progress of training, but to also stop the training when certain conditions are met.\n",
    "\n",
    "The following example from the ValidationMonitor documentation shows how to set it up. Note that the last three parameters indicate which metric we're optimizing.\n",
    "\n"
   ]
  },
  {
   "cell_type": "markdown",
   "metadata": {},
   "source": [
    "```python\n",
    "validation_monitor = tf.contrib.learn.monitors.ValidationMonitor(\n",
    "test_set.data,\n",
    "test_set.target,\n",
    "every_n_steps=50,\n",
    "metrics=validation_metrics,\n",
    "early_stopping_metric=\"loss\",\n",
    "early_stopping_metric_minimize=True,\n",
    "early_stopping_rounds=200)\n",
    "```"
   ]
  },
  {
   "cell_type": "markdown",
   "metadata": {},
   "source": [
    "<font size=3>\n",
    "The last parameter indicates to ValidationMonitor that it should stop the training process if the loss did not decrease in 200 steps (rounds) of training.\n",
    "\n",
    "The validation_monitor is then passed to tf.contrib.learn's \"fit\" method which runs the training process:\n",
    "\n"
   ]
  },
  {
   "cell_type": "markdown",
   "metadata": {},
   "source": [
    "```python \n",
    "  classifier = tf.contrib.learn.DNNClassifier(\n",
    "  feature_columns=feature_columns,\n",
    "  hidden_units=[10, 20, 10],\n",
    "  n_classes=3,\n",
    "  model_dir=\"/tmp/iris_model\",\n",
    "  config=tf.contrib.learn.RunConfig(save_checkpoints_secs=1))\n",
    "\n",
    "  classifier.fit(x=training_set.data,\n",
    "           y=training_set.target,\n",
    "           steps=2000,\n",
    "           monitors=[validation_monitor])\n",
    "\n",
    "```"
   ]
  },
  {
   "cell_type": "markdown",
   "metadata": {},
   "source": [
    "# SessionRunHook\n",
    "<font size=3>\n",
    "More recent versions of TensorFlow deprecated monitors in favor of [**SessionRunHooks**](https://www.tensorflow.org/api_docs/python/tf/train/SessionRunHook). SessionRunHooks are an evolving part of tf.train, and going forward appear to be the proper place where you'd implement early stopping.\n",
    "\n",
    "At the time of writing, two pre-defined stopping monitors exist as a part of tf.train's [**training hooks**](https://www.tensorflow.org/api_guides/python/train#Training_Hooks):<br><br>\n",
    "\n",
    "1. [**StopAtStepHook**](https://www.tensorflow.org/api_docs/python/tf/train/StopAtStepHook): A monitor to request the training stop after a certain number of steps\n",
    "<br><br>\n",
    "2. [**NanTensorHook**](https://www.tensorflow.org/api_docs/python/tf/train/NanTensorHook): a monitor that monitor's loss and stops training if it encounters a NaN loss\n"
   ]
  },
  {
   "cell_type": "markdown",
   "metadata": {},
   "source": [
    "# Number Of Hidden Units Layers\n",
    "<font size=3>\n",
    "\"in practice it is often the case that 3-layer neural networks will outperform 2-layer nets, but going even deeper (4,5,6-layer) rarely helps much more. This is in stark contrast to Convolutional Networks, where depth has been found to be an extremely important component for a good recognition system (e.g. on order of 10 learnable layers).\" ~ Andrej Karpathy in https://cs231n.github.io/neural-networks-1/"
   ]
  },
  {
   "cell_type": "markdown",
   "metadata": {},
   "source": [
    "# More on Capacity\n",
    "<font size=3>\n",
    "A more detailed discussion on a model's capacity appears in the [**Deep Learning book**, chapter 5.2 (pages 110-120)](http://www.deeplearningbook.org/contents/ml.html).\n"
   ]
  },
  {
   "cell_type": "markdown",
   "metadata": {},
   "source": [
    "# [RNN Hyperparameters](https://www.youtube.com/watch?v=yQvnv7l_aUo)\n",
    "# LSTM Vs GRU\n",
    "<font size=3>\n",
    "\"These results clearly indicate the advantages of the gating units over the more traditional recurrent units. Convergence is often faster, and the final solutions tend to be better. However, our results are not conclusive in comparing the LSTM and the GRU, which suggests that the choice of the type of gated recurrent unit may depend heavily on the dataset and corresponding task.\"\n",
    "\n",
    "[**Empirical Evaluation of Gated Recurrent Neural Networks on Sequence Modeling**](https://arxiv.org/abs/1412.3555) by Junyoung Chung, Caglar Gulcehre, KyungHyun Cho, Yoshua Bengio\n",
    "\n",
    "\"The GRU outperformed the LSTM on all tasks with the exception of language modelling\"\n",
    "\n",
    "[**An Empirical Exploration of Recurrent Network Architectures**](http://proceedings.mlr.press/v37/jozefowicz15.pdf) by Rafal Jozefowicz, Wojciech Zaremba, Ilya Sutskever\n",
    "\n",
    "\"Our consistent finding is that depth of at least two is beneficial. However, between two and three layers our results are mixed. Additionally, the results are mixed between the LSTM and the GRU, but both significantly outperform the RNN.\"\n",
    "\n",
    "[**Visualizing and Understanding Recurrent Networks**](https://arxiv.org/abs/1506.02078) by Andrej Karpathy, Justin Johnson, Li Fei-Fei\n",
    "\n",
    "\"Which of these variants is best? Do the differences matter? [**Greff, et al. (2015)**](https://arxiv.org/pdf/1503.04069.pdf) do a nice comparison of popular variants, finding that they’re all about the same. [**Jozefowicz, et al. (2015)**](http://proceedings.mlr.press/v37/jozefowicz15.pdf) tested more than ten thousand RNN architectures, finding some that worked better than LSTMs on certain tasks.\"\n",
    "\n",
    "[**Understanding LSTM Networks**](https://colah.github.io/posts/2015-08-Understanding-LSTMs/) by Chris Olah\n",
    "\n",
    "\"In our [Neural Machine Translation] experiments, LSTM cells consistently outperformed GRU cells. Since the computational bottleneck in our architecture is the softmax operation we did not observe large difference in training speed between LSTM and GRU cells. Somewhat to our surprise, we found that the vanilla decoder is unable to learn nearly as well as the gated variant.\"\n",
    "\n",
    "[**Massive Exploration of Neural Machine Translation Architectures**](https://arxiv.org/abs/1703.03906v2) by Denny Britz, Anna Goldie, Minh-Thang Luong, Quoc Le<br><br>\n",
    "\n",
    "***If you want read more paper, direct go to corresponding course in udacity***"
   ]
  },
  {
   "cell_type": "markdown",
   "metadata": {},
   "source": [
    "<font size=3>\n",
    "If you want to learn more about hyperparameters, these are some great resources on the topic:\n",
    "\n",
    "[**Practical recommendations for gradient-based training of deep architectures**](https://arxiv.org/abs/1206.5533) by Yoshua Bengio<br><br>\n",
    "[**Deep Learning book - chapter 11.4: Selecting Hyperparameters**](http://www.deeplearningbook.org/contents/guidelines.html) by Ian Goodfellow, Yoshua Bengio, Aaron Courville<br><br>\n",
    "[**Neural Networks and Deep Learning book - Chapter 3: How to choose a neural network's hyper-parameters?**](http://neuralnetworksanddeeplearning.com/chap3.html#how_to_choose_a_neural_network's_hyper-parameters) by Michael Nielsen<br><br>\n",
    "[**Efficient BackProp (pdf)**](http://yann.lecun.com/exdb/publis/pdf/lecun-98b.pdf) by Yann LeCun<br><br>\n",
    "More specialized sources:<br><br>\n",
    "\n",
    "[**How to Generate a Good Word Embedding?**](https://arxiv.org/abs/1507.05523) by Siwei Lai, Kang Liu, Liheng Xu, Jun Zhao<br><br>\n",
    "[**Systematic evaluation of CNN advances on the ImageNet**](https://arxiv.org/abs/1606.02228) by Dmytro Mishkin, Nikolay Sergievskiy, Jiri Matas"
   ]
  }
 ],
 "metadata": {
  "kernelspec": {
   "display_name": "Python 3",
   "language": "python",
   "name": "python3"
  },
  "language_info": {
   "codemirror_mode": {
    "name": "ipython",
    "version": 3
   },
   "file_extension": ".py",
   "mimetype": "text/x-python",
   "name": "python",
   "nbconvert_exporter": "python",
   "pygments_lexer": "ipython3",
   "version": "3.5.3"
  }
 },
 "nbformat": 4,
 "nbformat_minor": 2
}
